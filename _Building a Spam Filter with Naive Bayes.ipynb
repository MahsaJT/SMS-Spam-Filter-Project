{
 "cells": [
  {
   "cell_type": "markdown",
   "id": "799bd606-51e4-4a60-aa1d-ac8dfbbdea45",
   "metadata": {},
   "source": [
    "#  Building a Spam Filter with Naive Bayes\n",
    "\n",
    "## Our Goal:\n",
    "Build a simple **spam detector** for text messages (SMS) using the Naive Bayes algorithm.\n",
    "\n",
    "**How?**\n",
    "\n",
    "- We’ll train the computer to tell the difference between spam (junk messages) and normal messages.\n",
    "\n",
    "- We’ll test it to see how well it works.\n",
    "\n",
    "**Why Naive Bayes?**\n",
    "\n",
    "- It’s great for text (like messages).\n",
    "\n",
    "- It’s simple but effective.\n",
    "\n",
    "\n"
   ]
  },
  {
   "cell_type": "markdown",
   "id": "69ca02ab-bda0-4c7f-8607-4c575ed1f12b",
   "metadata": {},
   "source": [
    "## First task :\n",
    "\n",
    "**To classify messages as spam or non-spam, the computer:**\n",
    "1. Learns how humans classify messages.\n",
    "2. Uses that human knowledge to estimate probabilities for new messages — probabilities for spam and non-spam.\n",
    "3. Classifies a new message based on these probability values — if the probability for spam is greater, then it classifies the message as spam. Otherwise, it classifies it as non-spam (if the two probability values are equal, then we may need a human to classify the message).\n",
    "\n",
    "\n",
    "## The Dataset & The Authors :\n",
    "To  **\"teach\" the computer**, we'll use the multinomial Naive Bayes algorithm along with a dataset of 5,572 SMS messages that are already classified by humans.\n",
    "\n",
    "The dataset was put together by Tiago A. Almeida and José María Gómez Hidalgo, and it can be downloaded from the The [UCI Machine Learning Repository.](https://archive.ics.uci.edu/dataset/228/sms+spam+collection)\n",
    "\n"
   ]
  },
  {
   "cell_type": "code",
   "execution_count": 64,
   "id": "e953f34b-98bd-4953-b6d6-89c0eaf3aab3",
   "metadata": {},
   "outputs": [],
   "source": [
    "import pandas as pd\n",
    "import re"
   ]
  },
  {
   "cell_type": "code",
   "execution_count": 65,
   "id": "78d79c30-7805-438e-9533-2987debd097c",
   "metadata": {},
   "outputs": [
    {
     "data": {
      "text/plain": [
       "(5572, 2)"
      ]
     },
     "execution_count": 65,
     "metadata": {},
     "output_type": "execute_result"
    }
   ],
   "source": [
    "sms_collection = pd.read_csv('SMSSpamCollection',sep='\\t', header=None, names=['Label', 'SMS'])\n",
    "sms_collection.shape"
   ]
  },
  {
   "cell_type": "code",
   "execution_count": 66,
   "id": "844e3ff7-c73c-480f-ba2c-f0f4c6b3b926",
   "metadata": {},
   "outputs": [
    {
     "data": {
      "text/html": [
       "<div>\n",
       "<style scoped>\n",
       "    .dataframe tbody tr th:only-of-type {\n",
       "        vertical-align: middle;\n",
       "    }\n",
       "\n",
       "    .dataframe tbody tr th {\n",
       "        vertical-align: top;\n",
       "    }\n",
       "\n",
       "    .dataframe thead th {\n",
       "        text-align: right;\n",
       "    }\n",
       "</style>\n",
       "<table border=\"1\" class=\"dataframe\">\n",
       "  <thead>\n",
       "    <tr style=\"text-align: right;\">\n",
       "      <th></th>\n",
       "      <th>Label</th>\n",
       "      <th>SMS</th>\n",
       "    </tr>\n",
       "  </thead>\n",
       "  <tbody>\n",
       "    <tr>\n",
       "      <th>0</th>\n",
       "      <td>ham</td>\n",
       "      <td>Go until jurong point, crazy.. Available only ...</td>\n",
       "    </tr>\n",
       "    <tr>\n",
       "      <th>1</th>\n",
       "      <td>ham</td>\n",
       "      <td>Ok lar... Joking wif u oni...</td>\n",
       "    </tr>\n",
       "    <tr>\n",
       "      <th>2</th>\n",
       "      <td>spam</td>\n",
       "      <td>Free entry in 2 a wkly comp to win FA Cup fina...</td>\n",
       "    </tr>\n",
       "    <tr>\n",
       "      <th>3</th>\n",
       "      <td>ham</td>\n",
       "      <td>U dun say so early hor... U c already then say...</td>\n",
       "    </tr>\n",
       "    <tr>\n",
       "      <th>4</th>\n",
       "      <td>ham</td>\n",
       "      <td>Nah I don't think he goes to usf, he lives aro...</td>\n",
       "    </tr>\n",
       "  </tbody>\n",
       "</table>\n",
       "</div>"
      ],
      "text/plain": [
       "  Label                                                SMS\n",
       "0   ham  Go until jurong point, crazy.. Available only ...\n",
       "1   ham                      Ok lar... Joking wif u oni...\n",
       "2  spam  Free entry in 2 a wkly comp to win FA Cup fina...\n",
       "3   ham  U dun say so early hor... U c already then say...\n",
       "4   ham  Nah I don't think he goes to usf, he lives aro..."
      ]
     },
     "execution_count": 66,
     "metadata": {},
     "output_type": "execute_result"
    }
   ],
   "source": [
    "sms_collection.head()"
   ]
  },
  {
   "cell_type": "markdown",
   "id": "f5ed6721-211f-4e2b-8c8c-d298fd8c740f",
   "metadata": {},
   "source": [
    "The \"ham\" means non-spam"
   ]
  },
  {
   "cell_type": "markdown",
   "id": "dbfd8875-1dd9-4b4b-9f9b-e0c675804ff2",
   "metadata": {},
   "source": [
    "Lets's finding the percentage of spams and hams :\n"
   ]
  },
  {
   "cell_type": "code",
   "execution_count": 67,
   "id": "809b7c87-0645-4d2a-994b-afe1a76cb85c",
   "metadata": {},
   "outputs": [
    {
     "data": {
      "text/plain": [
       "Label\n",
       "ham     4825\n",
       "spam     747\n",
       "Name: count, dtype: int64"
      ]
     },
     "execution_count": 67,
     "metadata": {},
     "output_type": "execute_result"
    }
   ],
   "source": [
    "sms_collection['Label'].value_counts()"
   ]
  },
  {
   "cell_type": "code",
   "execution_count": 68,
   "id": "118855b3-6784-4f7a-b8cd-9fe5b621efe1",
   "metadata": {},
   "outputs": [
    {
     "data": {
      "text/plain": [
       "Label\n",
       "ham     86.593683\n",
       "spam    13.406317\n",
       "Name: proportion, dtype: float64"
      ]
     },
     "execution_count": 68,
     "metadata": {},
     "output_type": "execute_result"
    }
   ],
   "source": [
    "sms_collection['Label'].value_counts(normalize=True) * 100"
   ]
  },
  {
   "cell_type": "markdown",
   "id": "d5ab91c7-0835-4267-9f8d-a5d37b51215e",
   "metadata": {},
   "source": [
    "**Percentage of labels :**\n",
    "About 87% of the messages are ham, and the remaining 13% are spam"
   ]
  },
  {
   "cell_type": "markdown",
   "id": "6305b21f-ae1f-491f-be74-844d58df6119",
   "metadata": {},
   "source": [
    "# Training and Test Set\n",
    "We're first going to split our dataset into two categories:\n",
    "\n",
    "1. A **training set**, which we'll use to \"train\" the computer how to classify messages.\n",
    "2. A **test set**, which we'll use to test how good the spam filter is with classifying new messages.\n",
    "\n",
    "We're going to keep 80% of our dataset for training, and 20% for testing (we want to train the algorithm on as much data as possible, but we also want to have enough test data). The dataset has 5,572 messages, which means that:\n",
    "\n",
    "- The training set will have 4,458 messages (about 80% of the dataset).\n",
    "- The test set will have 1,114 messages (about 20% of the dataset)."
   ]
  },
  {
   "cell_type": "code",
   "execution_count": 69,
   "id": "a7208182-5a5e-4b21-9027-3fdb5d3951f8",
   "metadata": {},
   "outputs": [],
   "source": [
    "randomized_data = sms_collection.sample(frac=1, random_state=1)\n",
    "#Use the frac=1 parameter to randomize the entire dataset.\n",
    "#Use the random_state=1 parameter to make sure your results are reproducible.\n",
    "\n",
    "#specifying a length for 80% of the data:\n",
    "len_of_data = round(len(randomized_data)* 0.8)\n",
    "\n",
    "#The training data :\n",
    "training_data = randomized_data[:len_of_data].reset_index(drop=True)\n",
    "\n",
    "#The test data :\n",
    "test_data = randomized_data[len_of_data:].reset_index(drop=True)"
   ]
  },
  {
   "cell_type": "code",
   "execution_count": 70,
   "id": "7c16402f-2f11-4bac-b173-9c90fd5c3006",
   "metadata": {},
   "outputs": [
    {
     "name": "stdout",
     "output_type": "stream",
     "text": [
      " The taraining data shape is : (4458, 2)\n",
      " The test data shape is : (1114, 2)\n"
     ]
    }
   ],
   "source": [
    "print(f\" The taraining data shape is : {training_data.shape}\")\n",
    "print(f\" The test data shape is : {test_data.shape}\")"
   ]
  },
  {
   "cell_type": "markdown",
   "id": "5b68917a-c3e1-4528-9119-2199c40bd71f",
   "metadata": {},
   "source": [
    "Finding the percentage of spam and ham in both the training and the test set :"
   ]
  },
  {
   "cell_type": "code",
   "execution_count": 71,
   "id": "a27419f2-9f70-45ad-bd3d-e7ae63ffc2e7",
   "metadata": {},
   "outputs": [
    {
     "data": {
      "text/plain": [
       "Label\n",
       "ham     86.54105\n",
       "spam    13.45895\n",
       "Name: proportion, dtype: float64"
      ]
     },
     "execution_count": 71,
     "metadata": {},
     "output_type": "execute_result"
    }
   ],
   "source": [
    "training_data['Label'].value_counts(normalize=True) * 100"
   ]
  },
  {
   "cell_type": "code",
   "execution_count": 72,
   "id": "248850e8-bdeb-4181-a7eb-dd52860c9247",
   "metadata": {},
   "outputs": [
    {
     "data": {
      "text/html": [
       "<div>\n",
       "<style scoped>\n",
       "    .dataframe tbody tr th:only-of-type {\n",
       "        vertical-align: middle;\n",
       "    }\n",
       "\n",
       "    .dataframe tbody tr th {\n",
       "        vertical-align: top;\n",
       "    }\n",
       "\n",
       "    .dataframe thead th {\n",
       "        text-align: right;\n",
       "    }\n",
       "</style>\n",
       "<table border=\"1\" class=\"dataframe\">\n",
       "  <thead>\n",
       "    <tr style=\"text-align: right;\">\n",
       "      <th></th>\n",
       "      <th>Label</th>\n",
       "      <th>SMS</th>\n",
       "    </tr>\n",
       "  </thead>\n",
       "  <tbody>\n",
       "    <tr>\n",
       "      <th>0</th>\n",
       "      <td>ham</td>\n",
       "      <td>Yep, by the pretty sculpture</td>\n",
       "    </tr>\n",
       "    <tr>\n",
       "      <th>1</th>\n",
       "      <td>ham</td>\n",
       "      <td>Yes, princess. Are you going to make me moan?</td>\n",
       "    </tr>\n",
       "    <tr>\n",
       "      <th>2</th>\n",
       "      <td>ham</td>\n",
       "      <td>Welp apparently he retired</td>\n",
       "    </tr>\n",
       "    <tr>\n",
       "      <th>3</th>\n",
       "      <td>ham</td>\n",
       "      <td>Havent.</td>\n",
       "    </tr>\n",
       "    <tr>\n",
       "      <th>4</th>\n",
       "      <td>ham</td>\n",
       "      <td>I forgot 2 ask ü all smth.. There's a card on ...</td>\n",
       "    </tr>\n",
       "  </tbody>\n",
       "</table>\n",
       "</div>"
      ],
      "text/plain": [
       "  Label                                                SMS\n",
       "0   ham                       Yep, by the pretty sculpture\n",
       "1   ham      Yes, princess. Are you going to make me moan?\n",
       "2   ham                         Welp apparently he retired\n",
       "3   ham                                            Havent.\n",
       "4   ham  I forgot 2 ask ü all smth.. There's a card on ..."
      ]
     },
     "execution_count": 72,
     "metadata": {},
     "output_type": "execute_result"
    }
   ],
   "source": [
    "training_data.head()"
   ]
  },
  {
   "cell_type": "code",
   "execution_count": 73,
   "id": "7e9e25a7-ad58-405e-bdeb-459e61d43c26",
   "metadata": {},
   "outputs": [
    {
     "data": {
      "text/plain": [
       "Label\n",
       "ham     86.804309\n",
       "spam    13.195691\n",
       "Name: proportion, dtype: float64"
      ]
     },
     "execution_count": 73,
     "metadata": {},
     "output_type": "execute_result"
    }
   ],
   "source": [
    "test_data['Label'].value_counts(normalize=True) * 100"
   ]
  },
  {
   "cell_type": "code",
   "execution_count": 74,
   "id": "bfe0065e-c6e7-431e-8ef8-448d961af570",
   "metadata": {},
   "outputs": [
    {
     "data": {
      "text/html": [
       "<div>\n",
       "<style scoped>\n",
       "    .dataframe tbody tr th:only-of-type {\n",
       "        vertical-align: middle;\n",
       "    }\n",
       "\n",
       "    .dataframe tbody tr th {\n",
       "        vertical-align: top;\n",
       "    }\n",
       "\n",
       "    .dataframe thead th {\n",
       "        text-align: right;\n",
       "    }\n",
       "</style>\n",
       "<table border=\"1\" class=\"dataframe\">\n",
       "  <thead>\n",
       "    <tr style=\"text-align: right;\">\n",
       "      <th></th>\n",
       "      <th>Label</th>\n",
       "      <th>SMS</th>\n",
       "    </tr>\n",
       "  </thead>\n",
       "  <tbody>\n",
       "    <tr>\n",
       "      <th>0</th>\n",
       "      <td>ham</td>\n",
       "      <td>Later i guess. I needa do mcat study too.</td>\n",
       "    </tr>\n",
       "    <tr>\n",
       "      <th>1</th>\n",
       "      <td>ham</td>\n",
       "      <td>But i haf enuff space got like 4 mb...</td>\n",
       "    </tr>\n",
       "    <tr>\n",
       "      <th>2</th>\n",
       "      <td>spam</td>\n",
       "      <td>Had your mobile 10 mths? Update to latest Oran...</td>\n",
       "    </tr>\n",
       "    <tr>\n",
       "      <th>3</th>\n",
       "      <td>ham</td>\n",
       "      <td>All sounds good. Fingers . Makes it difficult ...</td>\n",
       "    </tr>\n",
       "    <tr>\n",
       "      <th>4</th>\n",
       "      <td>ham</td>\n",
       "      <td>All done, all handed in. Don't know if mega sh...</td>\n",
       "    </tr>\n",
       "  </tbody>\n",
       "</table>\n",
       "</div>"
      ],
      "text/plain": [
       "  Label                                                SMS\n",
       "0   ham          Later i guess. I needa do mcat study too.\n",
       "1   ham             But i haf enuff space got like 4 mb...\n",
       "2  spam  Had your mobile 10 mths? Update to latest Oran...\n",
       "3   ham  All sounds good. Fingers . Makes it difficult ...\n",
       "4   ham  All done, all handed in. Don't know if mega sh..."
      ]
     },
     "execution_count": 74,
     "metadata": {},
     "output_type": "execute_result"
    }
   ],
   "source": [
    "test_data.head()"
   ]
  },
  {
   "cell_type": "markdown",
   "id": "ec218e71-896d-471f-bdb9-6c20240e138f",
   "metadata": {},
   "source": [
    "It looks good. we have  a very close proportion for ham and spam in both datasets"
   ]
  },
  {
   "attachments": {
    "5f58f39b-dbce-4e40-b051-2af3f4d3762c.png": {
     "image/png": "[encoded data removed]"
    }
   },
   "cell_type": "markdown",
   "id": "f3741768-f0be-45f6-86f8-d566eeeb20ff",
   "metadata": {},
   "source": [
    "# Cleaning the Data :\n",
    "First, we'll clean the data to make it easier to calculate the probabilities for the algorithm.\n",
    "\n",
    "![raw_data.png](attachment:5f58f39b-dbce-4e40-b051-2af3f4d3762c.png)\n",
    "\n",
    "Let's begin the data cleaning process by removing the punctuation and bringing all the words to lower case."
   ]
  },
  {
   "cell_type": "code",
   "execution_count": 75,
   "id": "f6c87d55-3d10-40f0-a0ed-7f453edf5ee0",
   "metadata": {},
   "outputs": [
    {
     "data": {
      "text/html": [
       "<div>\n",
       "<style scoped>\n",
       "    .dataframe tbody tr th:only-of-type {\n",
       "        vertical-align: middle;\n",
       "    }\n",
       "\n",
       "    .dataframe tbody tr th {\n",
       "        vertical-align: top;\n",
       "    }\n",
       "\n",
       "    .dataframe thead th {\n",
       "        text-align: right;\n",
       "    }\n",
       "</style>\n",
       "<table border=\"1\" class=\"dataframe\">\n",
       "  <thead>\n",
       "    <tr style=\"text-align: right;\">\n",
       "      <th></th>\n",
       "      <th>Label</th>\n",
       "      <th>SMS</th>\n",
       "    </tr>\n",
       "  </thead>\n",
       "  <tbody>\n",
       "    <tr>\n",
       "      <th>0</th>\n",
       "      <td>ham</td>\n",
       "      <td>Yep, by the pretty sculpture</td>\n",
       "    </tr>\n",
       "    <tr>\n",
       "      <th>1</th>\n",
       "      <td>ham</td>\n",
       "      <td>Yes, princess. Are you going to make me moan?</td>\n",
       "    </tr>\n",
       "    <tr>\n",
       "      <th>2</th>\n",
       "      <td>ham</td>\n",
       "      <td>Welp apparently he retired</td>\n",
       "    </tr>\n",
       "    <tr>\n",
       "      <th>3</th>\n",
       "      <td>ham</td>\n",
       "      <td>Havent.</td>\n",
       "    </tr>\n",
       "    <tr>\n",
       "      <th>4</th>\n",
       "      <td>ham</td>\n",
       "      <td>I forgot 2 ask ü all smth.. There's a card on ...</td>\n",
       "    </tr>\n",
       "  </tbody>\n",
       "</table>\n",
       "</div>"
      ],
      "text/plain": [
       "  Label                                                SMS\n",
       "0   ham                       Yep, by the pretty sculpture\n",
       "1   ham      Yes, princess. Are you going to make me moan?\n",
       "2   ham                         Welp apparently he retired\n",
       "3   ham                                            Havent.\n",
       "4   ham  I forgot 2 ask ü all smth.. There's a card on ..."
      ]
     },
     "execution_count": 75,
     "metadata": {},
     "output_type": "execute_result"
    }
   ],
   "source": [
    "training_data.head()"
   ]
  },
  {
   "cell_type": "code",
   "execution_count": 76,
   "id": "0d63132d-d6df-4a6e-8885-b0d7380514fe",
   "metadata": {},
   "outputs": [
    {
     "data": {
      "text/html": [
       "<div>\n",
       "<style scoped>\n",
       "    .dataframe tbody tr th:only-of-type {\n",
       "        vertical-align: middle;\n",
       "    }\n",
       "\n",
       "    .dataframe tbody tr th {\n",
       "        vertical-align: top;\n",
       "    }\n",
       "\n",
       "    .dataframe thead th {\n",
       "        text-align: right;\n",
       "    }\n",
       "</style>\n",
       "<table border=\"1\" class=\"dataframe\">\n",
       "  <thead>\n",
       "    <tr style=\"text-align: right;\">\n",
       "      <th></th>\n",
       "      <th>Label</th>\n",
       "      <th>SMS</th>\n",
       "    </tr>\n",
       "  </thead>\n",
       "  <tbody>\n",
       "    <tr>\n",
       "      <th>0</th>\n",
       "      <td>ham</td>\n",
       "      <td>yep  by the pretty sculpture</td>\n",
       "    </tr>\n",
       "    <tr>\n",
       "      <th>1</th>\n",
       "      <td>ham</td>\n",
       "      <td>yes  princess  are you going to make me moan</td>\n",
       "    </tr>\n",
       "    <tr>\n",
       "      <th>2</th>\n",
       "      <td>ham</td>\n",
       "      <td>welp apparently he retired</td>\n",
       "    </tr>\n",
       "    <tr>\n",
       "      <th>3</th>\n",
       "      <td>ham</td>\n",
       "      <td>havent</td>\n",
       "    </tr>\n",
       "    <tr>\n",
       "      <th>4</th>\n",
       "      <td>ham</td>\n",
       "      <td>i forgot 2 ask ü all smth   there s a card on ...</td>\n",
       "    </tr>\n",
       "  </tbody>\n",
       "</table>\n",
       "</div>"
      ],
      "text/plain": [
       "  Label                                                SMS\n",
       "0   ham                       yep  by the pretty sculpture\n",
       "1   ham      yes  princess  are you going to make me moan \n",
       "2   ham                         welp apparently he retired\n",
       "3   ham                                            havent \n",
       "4   ham  i forgot 2 ask ü all smth   there s a card on ..."
      ]
     },
     "execution_count": 76,
     "metadata": {},
     "output_type": "execute_result"
    }
   ],
   "source": [
    "#using re.sub function to remove the punctuation but keeps spaces\n",
    "training_data['SMS'] = training_data['SMS'].apply(lambda x: re.sub(r'[^\\w\\s]|_', ' ', x))\n",
    "\n",
    "training_data['SMS'] = training_data['SMS'].str.lower()\n",
    "\n",
    "training_data.head()"
   ]
  },
  {
   "cell_type": "markdown",
   "id": "369e269f-d6ff-4ea2-91c6-b086e40d59a0",
   "metadata": {},
   "source": [
    "# Creating the Vocabulary\n",
    "Create a vocabulary for the messages in the training set. The vocabulary should be a Python list containing all the unique words across all messages, where each word is represented as a string."
   ]
  },
  {
   "cell_type": "code",
   "execution_count": 77,
   "id": "fd0b8e3b-1d13-446f-bcb8-611f76282b0a",
   "metadata": {},
   "outputs": [],
   "source": [
    "# transforming each message from the SMS column into a list\n",
    "training_data['SMS'] = training_data['SMS'].str.split()"
   ]
  },
  {
   "cell_type": "code",
   "execution_count": 78,
   "id": "41ea94b5-aaa9-4123-8a93-4fa6b2f172bd",
   "metadata": {},
   "outputs": [],
   "source": [
    "vocabulary = []\n",
    "\n",
    "for strings in training_data['SMS'] :\n",
    "    for vocab in strings :\n",
    "        vocabulary.append(vocab)\n",
    "#turn the vocabulary list to set to remove the dublicates and turn it to a list again:\n",
    "vocabulary = list(set(vocabulary))\n"
   ]
  },
  {
   "cell_type": "code",
   "execution_count": 79,
   "id": "b53df9b6-d66e-42cb-86e8-6f449f4b655c",
   "metadata": {},
   "outputs": [
    {
     "name": "stdout",
     "output_type": "stream",
     "text": [
      "7780\n"
     ]
    }
   ],
   "source": [
    "print(len(vocabulary))"
   ]
  },
  {
   "cell_type": "markdown",
   "id": "9136594a-acdd-4bff-b015-9ceb2eb217b9",
   "metadata": {},
   "source": [
    "Now there is 7.780 seperated words in vocabulary list"
   ]
  },
  {
   "cell_type": "markdown",
   "id": "222bcb99-43c2-4113-a8c6-a318f13dfc5e",
   "metadata": {},
   "source": [
    "# The Final Training set :\n",
    "Now we're going to use the vocabulary to make the data transformation we need, first we make a dictionary and then turn it to a dataframe"
   ]
  },
  {
   "cell_type": "code",
   "execution_count": 80,
   "id": "a3c9cb36-5b51-43ea-a122-eacb02b126c8",
   "metadata": {},
   "outputs": [],
   "source": [
    "word_counts_per_sms = {unique_word : [0] * len(training_data['SMS']) for unique_word in vocabulary}\n",
    "\n",
    "for index ,sms in enumerate(training_data['SMS']) :\n",
    "    for word in sms :\n",
    "        word_counts_per_sms[word][index] +=1\n",
    "        \n",
    "    "
   ]
  },
  {
   "cell_type": "code",
   "execution_count": 81,
   "id": "0ea8d5f4-cfd8-4a22-90c4-d00b0848179c",
   "metadata": {},
   "outputs": [
    {
     "data": {
      "text/html": [
       "<div>\n",
       "<style scoped>\n",
       "    .dataframe tbody tr th:only-of-type {\n",
       "        vertical-align: middle;\n",
       "    }\n",
       "\n",
       "    .dataframe tbody tr th {\n",
       "        vertical-align: top;\n",
       "    }\n",
       "\n",
       "    .dataframe thead th {\n",
       "        text-align: right;\n",
       "    }\n",
       "</style>\n",
       "<table border=\"1\" class=\"dataframe\">\n",
       "  <thead>\n",
       "    <tr style=\"text-align: right;\">\n",
       "      <th></th>\n",
       "      <th>boooo</th>\n",
       "      <th>resort</th>\n",
       "      <th>dresser</th>\n",
       "      <th>lotsof</th>\n",
       "      <th>vijay</th>\n",
       "      <th>fingers</th>\n",
       "      <th>audrie</th>\n",
       "      <th>restaurant</th>\n",
       "      <th>shanghai</th>\n",
       "      <th>500</th>\n",
       "      <th>...</th>\n",
       "      <th>forced</th>\n",
       "      <th>gotbabes</th>\n",
       "      <th>09050002311</th>\n",
       "      <th>1stone</th>\n",
       "      <th>08714712394</th>\n",
       "      <th>eighth</th>\n",
       "      <th>prayrs</th>\n",
       "      <th>tiwary</th>\n",
       "      <th>registered</th>\n",
       "      <th>messaging</th>\n",
       "    </tr>\n",
       "  </thead>\n",
       "  <tbody>\n",
       "    <tr>\n",
       "      <th>0</th>\n",
       "      <td>0</td>\n",
       "      <td>0</td>\n",
       "      <td>0</td>\n",
       "      <td>0</td>\n",
       "      <td>0</td>\n",
       "      <td>0</td>\n",
       "      <td>0</td>\n",
       "      <td>0</td>\n",
       "      <td>0</td>\n",
       "      <td>0</td>\n",
       "      <td>...</td>\n",
       "      <td>0</td>\n",
       "      <td>0</td>\n",
       "      <td>0</td>\n",
       "      <td>0</td>\n",
       "      <td>0</td>\n",
       "      <td>0</td>\n",
       "      <td>0</td>\n",
       "      <td>0</td>\n",
       "      <td>0</td>\n",
       "      <td>0</td>\n",
       "    </tr>\n",
       "    <tr>\n",
       "      <th>1</th>\n",
       "      <td>0</td>\n",
       "      <td>0</td>\n",
       "      <td>0</td>\n",
       "      <td>0</td>\n",
       "      <td>0</td>\n",
       "      <td>0</td>\n",
       "      <td>0</td>\n",
       "      <td>0</td>\n",
       "      <td>0</td>\n",
       "      <td>0</td>\n",
       "      <td>...</td>\n",
       "      <td>0</td>\n",
       "      <td>0</td>\n",
       "      <td>0</td>\n",
       "      <td>0</td>\n",
       "      <td>0</td>\n",
       "      <td>0</td>\n",
       "      <td>0</td>\n",
       "      <td>0</td>\n",
       "      <td>0</td>\n",
       "      <td>0</td>\n",
       "    </tr>\n",
       "    <tr>\n",
       "      <th>2</th>\n",
       "      <td>0</td>\n",
       "      <td>0</td>\n",
       "      <td>0</td>\n",
       "      <td>0</td>\n",
       "      <td>0</td>\n",
       "      <td>0</td>\n",
       "      <td>0</td>\n",
       "      <td>0</td>\n",
       "      <td>0</td>\n",
       "      <td>0</td>\n",
       "      <td>...</td>\n",
       "      <td>0</td>\n",
       "      <td>0</td>\n",
       "      <td>0</td>\n",
       "      <td>0</td>\n",
       "      <td>0</td>\n",
       "      <td>0</td>\n",
       "      <td>0</td>\n",
       "      <td>0</td>\n",
       "      <td>0</td>\n",
       "      <td>0</td>\n",
       "    </tr>\n",
       "    <tr>\n",
       "      <th>3</th>\n",
       "      <td>0</td>\n",
       "      <td>0</td>\n",
       "      <td>0</td>\n",
       "      <td>0</td>\n",
       "      <td>0</td>\n",
       "      <td>0</td>\n",
       "      <td>0</td>\n",
       "      <td>0</td>\n",
       "      <td>0</td>\n",
       "      <td>0</td>\n",
       "      <td>...</td>\n",
       "      <td>0</td>\n",
       "      <td>0</td>\n",
       "      <td>0</td>\n",
       "      <td>0</td>\n",
       "      <td>0</td>\n",
       "      <td>0</td>\n",
       "      <td>0</td>\n",
       "      <td>0</td>\n",
       "      <td>0</td>\n",
       "      <td>0</td>\n",
       "    </tr>\n",
       "    <tr>\n",
       "      <th>4</th>\n",
       "      <td>0</td>\n",
       "      <td>0</td>\n",
       "      <td>0</td>\n",
       "      <td>0</td>\n",
       "      <td>0</td>\n",
       "      <td>0</td>\n",
       "      <td>0</td>\n",
       "      <td>0</td>\n",
       "      <td>0</td>\n",
       "      <td>0</td>\n",
       "      <td>...</td>\n",
       "      <td>0</td>\n",
       "      <td>0</td>\n",
       "      <td>0</td>\n",
       "      <td>0</td>\n",
       "      <td>0</td>\n",
       "      <td>0</td>\n",
       "      <td>0</td>\n",
       "      <td>0</td>\n",
       "      <td>0</td>\n",
       "      <td>0</td>\n",
       "    </tr>\n",
       "  </tbody>\n",
       "</table>\n",
       "<p>5 rows × 7780 columns</p>\n",
       "</div>"
      ],
      "text/plain": [
       "   boooo  resort  dresser  lotsof  vijay  fingers  audrie  restaurant  \\\n",
       "0      0       0        0       0      0        0       0           0   \n",
       "1      0       0        0       0      0        0       0           0   \n",
       "2      0       0        0       0      0        0       0           0   \n",
       "3      0       0        0       0      0        0       0           0   \n",
       "4      0       0        0       0      0        0       0           0   \n",
       "\n",
       "   shanghai  500  ...  forced  gotbabes  09050002311  1stone  08714712394  \\\n",
       "0         0    0  ...       0         0            0       0            0   \n",
       "1         0    0  ...       0         0            0       0            0   \n",
       "2         0    0  ...       0         0            0       0            0   \n",
       "3         0    0  ...       0         0            0       0            0   \n",
       "4         0    0  ...       0         0            0       0            0   \n",
       "\n",
       "   eighth  prayrs  tiwary  registered  messaging  \n",
       "0       0       0       0           0          0  \n",
       "1       0       0       0           0          0  \n",
       "2       0       0       0           0          0  \n",
       "3       0       0       0           0          0  \n",
       "4       0       0       0           0          0  \n",
       "\n",
       "[5 rows x 7780 columns]"
      ]
     },
     "execution_count": 81,
     "metadata": {},
     "output_type": "execute_result"
    }
   ],
   "source": [
    "word_counter_pd = pd.DataFrame(word_counts_per_sms)\n",
    "word_counter_pd.head()"
   ]
  },
  {
   "cell_type": "code",
   "execution_count": 82,
   "id": "fd342e1e-1230-456c-b6fc-0adf0749d08b",
   "metadata": {},
   "outputs": [
    {
     "data": {
      "text/html": [
       "<div>\n",
       "<style scoped>\n",
       "    .dataframe tbody tr th:only-of-type {\n",
       "        vertical-align: middle;\n",
       "    }\n",
       "\n",
       "    .dataframe tbody tr th {\n",
       "        vertical-align: top;\n",
       "    }\n",
       "\n",
       "    .dataframe thead th {\n",
       "        text-align: right;\n",
       "    }\n",
       "</style>\n",
       "<table border=\"1\" class=\"dataframe\">\n",
       "  <thead>\n",
       "    <tr style=\"text-align: right;\">\n",
       "      <th></th>\n",
       "      <th>Label</th>\n",
       "      <th>SMS</th>\n",
       "      <th>boooo</th>\n",
       "      <th>resort</th>\n",
       "      <th>dresser</th>\n",
       "      <th>lotsof</th>\n",
       "      <th>vijay</th>\n",
       "      <th>fingers</th>\n",
       "      <th>audrie</th>\n",
       "      <th>restaurant</th>\n",
       "      <th>...</th>\n",
       "      <th>forced</th>\n",
       "      <th>gotbabes</th>\n",
       "      <th>09050002311</th>\n",
       "      <th>1stone</th>\n",
       "      <th>08714712394</th>\n",
       "      <th>eighth</th>\n",
       "      <th>prayrs</th>\n",
       "      <th>tiwary</th>\n",
       "      <th>registered</th>\n",
       "      <th>messaging</th>\n",
       "    </tr>\n",
       "  </thead>\n",
       "  <tbody>\n",
       "    <tr>\n",
       "      <th>0</th>\n",
       "      <td>ham</td>\n",
       "      <td>[yep, by, the, pretty, sculpture]</td>\n",
       "      <td>0</td>\n",
       "      <td>0</td>\n",
       "      <td>0</td>\n",
       "      <td>0</td>\n",
       "      <td>0</td>\n",
       "      <td>0</td>\n",
       "      <td>0</td>\n",
       "      <td>0</td>\n",
       "      <td>...</td>\n",
       "      <td>0</td>\n",
       "      <td>0</td>\n",
       "      <td>0</td>\n",
       "      <td>0</td>\n",
       "      <td>0</td>\n",
       "      <td>0</td>\n",
       "      <td>0</td>\n",
       "      <td>0</td>\n",
       "      <td>0</td>\n",
       "      <td>0</td>\n",
       "    </tr>\n",
       "    <tr>\n",
       "      <th>1</th>\n",
       "      <td>ham</td>\n",
       "      <td>[yes, princess, are, you, going, to, make, me,...</td>\n",
       "      <td>0</td>\n",
       "      <td>0</td>\n",
       "      <td>0</td>\n",
       "      <td>0</td>\n",
       "      <td>0</td>\n",
       "      <td>0</td>\n",
       "      <td>0</td>\n",
       "      <td>0</td>\n",
       "      <td>...</td>\n",
       "      <td>0</td>\n",
       "      <td>0</td>\n",
       "      <td>0</td>\n",
       "      <td>0</td>\n",
       "      <td>0</td>\n",
       "      <td>0</td>\n",
       "      <td>0</td>\n",
       "      <td>0</td>\n",
       "      <td>0</td>\n",
       "      <td>0</td>\n",
       "    </tr>\n",
       "    <tr>\n",
       "      <th>2</th>\n",
       "      <td>ham</td>\n",
       "      <td>[welp, apparently, he, retired]</td>\n",
       "      <td>0</td>\n",
       "      <td>0</td>\n",
       "      <td>0</td>\n",
       "      <td>0</td>\n",
       "      <td>0</td>\n",
       "      <td>0</td>\n",
       "      <td>0</td>\n",
       "      <td>0</td>\n",
       "      <td>...</td>\n",
       "      <td>0</td>\n",
       "      <td>0</td>\n",
       "      <td>0</td>\n",
       "      <td>0</td>\n",
       "      <td>0</td>\n",
       "      <td>0</td>\n",
       "      <td>0</td>\n",
       "      <td>0</td>\n",
       "      <td>0</td>\n",
       "      <td>0</td>\n",
       "    </tr>\n",
       "    <tr>\n",
       "      <th>3</th>\n",
       "      <td>ham</td>\n",
       "      <td>[havent]</td>\n",
       "      <td>0</td>\n",
       "      <td>0</td>\n",
       "      <td>0</td>\n",
       "      <td>0</td>\n",
       "      <td>0</td>\n",
       "      <td>0</td>\n",
       "      <td>0</td>\n",
       "      <td>0</td>\n",
       "      <td>...</td>\n",
       "      <td>0</td>\n",
       "      <td>0</td>\n",
       "      <td>0</td>\n",
       "      <td>0</td>\n",
       "      <td>0</td>\n",
       "      <td>0</td>\n",
       "      <td>0</td>\n",
       "      <td>0</td>\n",
       "      <td>0</td>\n",
       "      <td>0</td>\n",
       "    </tr>\n",
       "    <tr>\n",
       "      <th>4</th>\n",
       "      <td>ham</td>\n",
       "      <td>[i, forgot, 2, ask, ü, all, smth, there, s, a,...</td>\n",
       "      <td>0</td>\n",
       "      <td>0</td>\n",
       "      <td>0</td>\n",
       "      <td>0</td>\n",
       "      <td>0</td>\n",
       "      <td>0</td>\n",
       "      <td>0</td>\n",
       "      <td>0</td>\n",
       "      <td>...</td>\n",
       "      <td>0</td>\n",
       "      <td>0</td>\n",
       "      <td>0</td>\n",
       "      <td>0</td>\n",
       "      <td>0</td>\n",
       "      <td>0</td>\n",
       "      <td>0</td>\n",
       "      <td>0</td>\n",
       "      <td>0</td>\n",
       "      <td>0</td>\n",
       "    </tr>\n",
       "  </tbody>\n",
       "</table>\n",
       "<p>5 rows × 7782 columns</p>\n",
       "</div>"
      ],
      "text/plain": [
       "  Label                                                SMS  boooo  resort  \\\n",
       "0   ham                  [yep, by, the, pretty, sculpture]      0       0   \n",
       "1   ham  [yes, princess, are, you, going, to, make, me,...      0       0   \n",
       "2   ham                    [welp, apparently, he, retired]      0       0   \n",
       "3   ham                                           [havent]      0       0   \n",
       "4   ham  [i, forgot, 2, ask, ü, all, smth, there, s, a,...      0       0   \n",
       "\n",
       "   dresser  lotsof  vijay  fingers  audrie  restaurant  ...  forced  gotbabes  \\\n",
       "0        0       0      0        0       0           0  ...       0         0   \n",
       "1        0       0      0        0       0           0  ...       0         0   \n",
       "2        0       0      0        0       0           0  ...       0         0   \n",
       "3        0       0      0        0       0           0  ...       0         0   \n",
       "4        0       0      0        0       0           0  ...       0         0   \n",
       "\n",
       "   09050002311  1stone  08714712394  eighth  prayrs  tiwary  registered  \\\n",
       "0            0       0            0       0       0       0           0   \n",
       "1            0       0            0       0       0       0           0   \n",
       "2            0       0            0       0       0       0           0   \n",
       "3            0       0            0       0       0       0           0   \n",
       "4            0       0            0       0       0       0           0   \n",
       "\n",
       "   messaging  \n",
       "0          0  \n",
       "1          0  \n",
       "2          0  \n",
       "3          0  \n",
       "4          0  \n",
       "\n",
       "[5 rows x 7782 columns]"
      ]
     },
     "execution_count": 82,
     "metadata": {},
     "output_type": "execute_result"
    }
   ],
   "source": [
    "cleaned_training_data = pd.concat([training_data, word_counter_pd], axis=1)\n",
    "cleaned_training_data.head()"
   ]
  },
  {
   "attachments": {
    "ee14488b-ecaf-40ae-b164-298297a921c5.JPG": {
     "image/jpeg": "[encoded data removed]"
    }
   },
   "cell_type": "markdown",
   "id": "c5887947-a6db-45d6-8a9b-ef8f06fde672",
   "metadata": {},
   "source": [
    "# Calculating Constants First\n",
    "These are the equations we need for calculation :\n",
    "\n",
    "![Equation.JPG](attachment:ee14488b-ecaf-40ae-b164-298297a921c5.JPG)\n",
    "\n",
    "Some of the terms in the four equations above will have the same value for every new message. As a start, let's first calculate:\n",
    "\n",
    "**P(Spam) and P(Ham)**\n",
    "NSpam, NHam, NVocabulary\n",
    "Recall that:\n",
    "\n",
    "- **NSpam** is equal to the number of words in all the spam messages — it's not equal to the number of spam messages, and it's not equal to the total number of unique words in spam messages.\n",
    "- **NHam** is equal to the number of words in all the non-spam messages — it's not equal to the number of non-spam messages, and it's not equal to the total number of unique words in non-spam messages.\n",
    "\n",
    "We'll also use Laplace smoothing and set α=1\n",
    "\n",
    "**all these bellow terms will have constant values in our equations for every new message** *(regardless of the message or each individual word in the message).*"
   ]
  },
  {
   "cell_type": "code",
   "execution_count": 83,
   "id": "1c056d2d-99f1-428e-b9b2-0d9a5a0c9728",
   "metadata": {},
   "outputs": [],
   "source": [
    "#Calculate P(Spam) and P(Ham)\n",
    "spam_messages = cleaned_training_data[cleaned_training_data['Label'] == 'spam']\n",
    "ham_messages = cleaned_training_data[cleaned_training_data['Label'] == 'ham']\n",
    "\n",
    "p_spam = len(spam_messages) / len(cleaned_training_data)\n",
    "p_ham = len(ham_messages) / len(cleaned_training_data)\n",
    "\n",
    "#N spam\n",
    "n_words_in_spam = spam_messages['SMS'].apply(len)\n",
    "n_spam = n_words_in_spam.sum()\n",
    "\n",
    "#N ham\n",
    "n_words_in_ham = ham_messages['SMS'].apply(len)\n",
    "n_ham = n_words_in_ham.sum()\n",
    "\n",
    "#N vocabulary\n",
    "n_vocabulary = len(vocabulary)\n",
    "\n",
    "alpha = 1"
   ]
  },
  {
   "cell_type": "markdown",
   "id": "06a87d85-2867-4430-9262-f55d59aae8db",
   "metadata": {},
   "source": [
    "# Calculating Parameters\n",
    "now we are going to calculate P(wi|Spam) and P(wi|Ham) which will be vary depending on the individual words\n",
    "\n",
    "\\begin{equation}\n",
    "P(w_i|Spam) = \\frac{N_{w_i|Spam} + \\alpha}{N_{Spam} + \\alpha \\cdot N_{Vocabulary}}\n",
    "\\end{equation}\n",
    "\n",
    "\\begin{equation}\n",
    "P(w_i|Ham) = \\frac{N_{w_i|Ham} + \\alpha}{N_{Ham} + \\alpha \\cdot N_{Vocabulary}}\n",
    "\\end{equation}"
   ]
  },
  {
   "cell_type": "code",
   "execution_count": 84,
   "id": "7da6a067-c0b3-4d0f-bdb2-b6e42d4810d2",
   "metadata": {},
   "outputs": [],
   "source": [
    "#Initialize two dictionaries for spam and ham, where each key-value pair is a unique word (from our vocabulary), and the value is 0\n",
    "spam_parameters = {unique_word:0 for unique_word in vocabulary}\n",
    "ham_parameters = {unique_word:0 for unique_word in vocabulary}\n",
    "\n",
    "#we have already isolated the spam and the ham messages in the previous cell, into two different DataFrames- spam_messages & ham_messages\n",
    "#for each word, calculate P(wi|Spam) and P(wi|Ham)\n",
    "\n",
    "for word in vocabulary :\n",
    "    N_word_given_by_spam = spam_messages[word].sum()\n",
    "    P_word_given_by_spam = (N_word_given_by_spam + alpha) / (n_spam+alpha * (n_vocabulary))\n",
    "    spam_parameters[word] = P_word_given_by_spam\n",
    "\n",
    "    N_word_given_by_ham = ham_messages[word].sum()\n",
    "    P_word_given_by_ham = (N_word_given_by_ham+alpha) / (n_ham+alpha * (n_vocabulary))\n",
    "    ham_parameters[word] = P_word_given_by_ham\n",
    "\n"
   ]
  },
  {
   "cell_type": "markdown",
   "id": "cd35cfdb-937e-4348-8bd2-92e51a669160",
   "metadata": {},
   "source": [
    "# Classifying A New Message\n",
    "Now that we've calculated all the constants and parameters we need, we can start creating the spam filter. The spam filter can be understood as a function that:\n",
    "\n",
    "- Takes in as input a new message (w1, w2, ..., wn)\n",
    "- Calculates P(Spam|w1, w2, ..., wn) and P(Ham|w1, w2, ..., wn)\n",
    "- Compares the values of P(Spam|w1, w2, ..., wn) and P(Ham|w1, w2, ..., wn), and:\n",
    "  - If P(Ham|w1, w2, ..., wn) > P(Spam|w1, w2, ..., wn), then the message is classified as ham.\n",
    "  - If P(Ham|w1, w2, ..., wn) < P(Spam|w1, w2, ..., wn), then the message is classified as spam.\n",
    "  - If P(Ham|w1, w2, ..., wn) = P(Spam|w1, w2, ..., wn), then the algorithm may request human help"
   ]
  },
  {
   "cell_type": "code",
   "execution_count": 85,
   "id": "c19b14f5-35d9-49b9-9c50-b9bf3d18f200",
   "metadata": {},
   "outputs": [],
   "source": [
    "def classify(messages) :\n",
    "    #cleaning the data messages:\n",
    "    messages = re.sub(r'[^\\w\\s]|_', ' ', messages)\n",
    "    messages = messages.lower()\n",
    "    messages = messages.split()\n",
    "\n",
    "    p_spam_given_message = p_spam\n",
    "    p_ham_given_message = p_ham\n",
    "\n",
    "    for word in messages :\n",
    "        if word in spam_parameters :\n",
    "            p_spam_given_message *= spam_parameters[word]\n",
    "\n",
    "        if word in ham_parameters :\n",
    "            p_ham_given_message *= ham_parameters[word]\n",
    "\n",
    "    print('p(spam|message): ', p_spam_given_message)\n",
    "    print('p(ham|message): ', p_ham_given_message)\n",
    "\n",
    "    if p_ham_given_message > p_spam_given_message:\n",
    "        print('Label : ham')\n",
    "    if p_spam_given_message > p_ham_given_message:\n",
    "        print('Label : spam')\n",
    "    if p_spam_given_message == p_ham_given_message :\n",
    "        print('Equal probabilities, needs to classify by a human!')\n",
    "\n",
    "\n",
    "\n",
    "    "
   ]
  },
  {
   "cell_type": "code",
   "execution_count": 86,
   "id": "ea0c1016-539c-4cae-b8d5-dec204f74ad3",
   "metadata": {},
   "outputs": [
    {
     "name": "stdout",
     "output_type": "stream",
     "text": [
      "p(spam|message):  1.3481290211300841e-25\n",
      "p(ham|message):  1.938682546922174e-27\n",
      "Label : spam\n"
     ]
    }
   ],
   "source": [
    "test_message_1 = 'WINNER!! This is the secret code to unlock the money: C3421.'\n",
    "test_func_1 = classify(test_message_1)\n"
   ]
  },
  {
   "cell_type": "code",
   "execution_count": 87,
   "id": "49571c5e-3908-4124-8c2b-99d8eea0cd2e",
   "metadata": {},
   "outputs": [
    {
     "name": "stdout",
     "output_type": "stream",
     "text": [
      "p(spam|message):  2.4372375665888117e-25\n",
      "p(ham|message):  3.690310607691019e-21\n",
      "Label : ham\n"
     ]
    }
   ],
   "source": [
    "test_message_2 = \"Sounds good, Tom, then see u there\"\n",
    "test_func_2 = classify(test_message_2)"
   ]
  },
  {
   "cell_type": "markdown",
   "id": "976e81b0-d4bb-4060-8e3a-c9f88c6548d9",
   "metadata": {},
   "source": [
    "# Measuring the Spam Filter's Accuracy\n",
    "To testing the function, we start by changing the print statement with return. and also adding a new column to the test_data to compare the prediction of function with the label column"
   ]
  },
  {
   "cell_type": "code",
   "execution_count": 88,
   "id": "ec0dd5d4-b76c-4827-bf41-5a04a2209175",
   "metadata": {},
   "outputs": [],
   "source": [
    "#changin the print statement:\n",
    "def classify_test_data(messages) :\n",
    "    #cleaning the data messages:\n",
    "    messages = re.sub(r'[^\\w\\s]|_', ' ', messages)\n",
    "    messages = messages.lower()\n",
    "    messages = messages.split()\n",
    "\n",
    "    p_spam_given_message = p_spam\n",
    "    p_ham_given_message = p_ham\n",
    "\n",
    "    for word in messages :\n",
    "        if word in spam_parameters :\n",
    "            p_spam_given_message *= spam_parameters[word]\n",
    "\n",
    "        if word in ham_parameters :\n",
    "            p_ham_given_message *= ham_parameters[word]\n",
    "\n",
    "    print('p(spam|message): ', p_spam_given_message)\n",
    "    print('p(ham|message): ', p_ham_given_message)\n",
    "\n",
    "    if p_ham_given_message > p_spam_given_message:\n",
    "        return 'ham'\n",
    "    if p_spam_given_message > p_ham_given_message:\n",
    "        return 'spam'\n",
    "    if p_spam_given_message == p_ham_given_message :\n",
    "        return 'needs to classify by a human!'\n",
    "   "
   ]
  },
  {
   "cell_type": "code",
   "execution_count": 93,
   "id": "b1a00ca2-9220-4c4c-94eb-ada5c986986f",
   "metadata": {},
   "outputs": [],
   "source": [
    "#creat a new column :\n",
    "test_data['prediction'] = test_data['SMS'].apply(classify_test_data)"
   ]
  },
  {
   "cell_type": "code",
   "execution_count": 90,
   "id": "843bcbc6-430d-43a1-b963-4cf366536fbb",
   "metadata": {},
   "outputs": [
    {
     "data": {
      "text/html": [
       "<div>\n",
       "<style scoped>\n",
       "    .dataframe tbody tr th:only-of-type {\n",
       "        vertical-align: middle;\n",
       "    }\n",
       "\n",
       "    .dataframe tbody tr th {\n",
       "        vertical-align: top;\n",
       "    }\n",
       "\n",
       "    .dataframe thead th {\n",
       "        text-align: right;\n",
       "    }\n",
       "</style>\n",
       "<table border=\"1\" class=\"dataframe\">\n",
       "  <thead>\n",
       "    <tr style=\"text-align: right;\">\n",
       "      <th></th>\n",
       "      <th>Label</th>\n",
       "      <th>SMS</th>\n",
       "      <th>prediction</th>\n",
       "    </tr>\n",
       "  </thead>\n",
       "  <tbody>\n",
       "    <tr>\n",
       "      <th>0</th>\n",
       "      <td>ham</td>\n",
       "      <td>Later i guess. I needa do mcat study too.</td>\n",
       "      <td>ham</td>\n",
       "    </tr>\n",
       "    <tr>\n",
       "      <th>1</th>\n",
       "      <td>ham</td>\n",
       "      <td>But i haf enuff space got like 4 mb...</td>\n",
       "      <td>ham</td>\n",
       "    </tr>\n",
       "    <tr>\n",
       "      <th>2</th>\n",
       "      <td>spam</td>\n",
       "      <td>Had your mobile 10 mths? Update to latest Oran...</td>\n",
       "      <td>spam</td>\n",
       "    </tr>\n",
       "    <tr>\n",
       "      <th>3</th>\n",
       "      <td>ham</td>\n",
       "      <td>All sounds good. Fingers . Makes it difficult ...</td>\n",
       "      <td>ham</td>\n",
       "    </tr>\n",
       "    <tr>\n",
       "      <th>4</th>\n",
       "      <td>ham</td>\n",
       "      <td>All done, all handed in. Don't know if mega sh...</td>\n",
       "      <td>ham</td>\n",
       "    </tr>\n",
       "  </tbody>\n",
       "</table>\n",
       "</div>"
      ],
      "text/plain": [
       "  Label                                                SMS prediction\n",
       "0   ham          Later i guess. I needa do mcat study too.        ham\n",
       "1   ham             But i haf enuff space got like 4 mb...        ham\n",
       "2  spam  Had your mobile 10 mths? Update to latest Oran...       spam\n",
       "3   ham  All sounds good. Fingers . Makes it difficult ...        ham\n",
       "4   ham  All done, all handed in. Don't know if mega sh...        ham"
      ]
     },
     "execution_count": 90,
     "metadata": {},
     "output_type": "execute_result"
    }
   ],
   "source": [
    "test_data.head()"
   ]
  },
  {
   "cell_type": "markdown",
   "id": "b0ec641f-71a9-4a69-bead-e268a934e88b",
   "metadata": {},
   "source": [
    "Now we can compare the predicted values with the actual values to measure how good our spam filter is with classifying new messages. To make the measurement, we'll use accuracy as a metric:\n",
    "\n",
    "\\begin{equation}\n",
    "\\text{Accuracy} = \\frac{\\text{number of correctly classified messages}}{\\text{total number of classified messages}}\n",
    "\\end{equation}"
   ]
  },
  {
   "cell_type": "code",
   "execution_count": 91,
   "id": "642e2d76-a06f-4aeb-a499-bd4916eb2a05",
   "metadata": {},
   "outputs": [
    {
     "name": "stdout",
     "output_type": "stream",
     "text": [
      "Correct: 1100\n",
      "Incorrect: 14\n",
      "Accuracy: 0.9874326750448833\n"
     ]
    }
   ],
   "source": [
    "correct = 0\n",
    "total = test_data.shape[0]\n",
    "\n",
    "for row in test_data.iterrows():\n",
    "    row=row[1]\n",
    "    if row['Label'] == row['prediction']:\n",
    "        correct +=1\n",
    "\n",
    "\n",
    "print('Correct:', correct)\n",
    "print('Incorrect:', total - correct)\n",
    "print('Accuracy:', correct/total)"
   ]
  },
  {
   "cell_type": "markdown",
   "id": "81620e45-a0c1-4811-8a4c-e6949c0d6a02",
   "metadata": {},
   "source": [
    "The model achieved an accuracy of 98.74%, which is excellent. When tested on 1,114 previously unseen messages, it correctly classified 1,100 of them"
   ]
  },
  {
   "cell_type": "markdown",
   "id": "a8f24446-7ad2-4794-ad1e-c0b891263ef0",
   "metadata": {},
   "source": [
    "# Isolating Incorrectly Classified Messages\n",
    "lets look closer to incorrect part :\n"
   ]
  },
  {
   "cell_type": "code",
   "execution_count": 92,
   "id": "48e1b392-1205-4878-98d6-71965f7b578a",
   "metadata": {},
   "outputs": [
    {
     "name": "stdout",
     "output_type": "stream",
     "text": [
      "114    Not heard from U4 a while. Call me now am here...\n",
      "135    More people are dogging in your area now. Call...\n",
      "152                    Unlimited texts. Limited minutes.\n",
      "159                                         26th OF JULY\n",
      "284                               Nokia phone is lovly..\n",
      "293    A Boy loved a gal. He propsd bt she didnt mind...\n",
      "302                     No calls..messages..missed calls\n",
      "319    We have sent JD for Customer Service cum Accou...\n",
      "504    Oh my god! I've found your number again! I'm s...\n",
      "546    Hi babe its Chloe, how r u? I was smashed on s...\n",
      "741    0A$NETWORKS allow companies to bill for SMS, s...\n",
      "876             RCT' THNQ Adrian for U text. Rgds Vatian\n",
      "885                                        2/2 146tf150p\n",
      "953    Hello. We need some posh birds and chaps to us...\n",
      "Name: SMS, dtype: object\n"
     ]
    }
   ],
   "source": [
    "incorrect_classified = test_data[test_data['Label'] != test_data['prediction']]\n",
    "print(incorrect_classified['SMS'])"
   ]
  },
  {
   "cell_type": "markdown",
   "id": "c4de20ab-5c6b-4100-b474-2b6dbfd65fd6",
   "metadata": {},
   "source": [
    "Here are some possible reasons why the algorithm may have misclassified the messages:\n",
    "\n",
    "- **Insufficient training data:** If the training data does not contain enough examples of a particular type of message, the algorithm may not be able to learn the patterns and features that distinguish that type of message.\n",
    "- **Overfitting or underfitting:** If the algorithm is overfitting or underfitting the training data, it may not generalize well to new, unseen data, leading to incorrect classifications.\n",
    "- **Noise or outliers in the data:** If there is noise or outliers in the data, the algorithm may be misled by these irregularities and make incorrect classifications.\n",
    "- **Limited feature set:** If the feature set used by the algorithm is limited, it may not be able to capture the nuances and complexities of the data, leading to incorrect classifications.\n",
    "- **Class imbalance:** If one class has a significantly larger number of instances than the other, the algorithm may be biased towards the majority class and misclassify instances of the minority class.\n"
   ]
  }
 ],
 "metadata": {
  "kernelspec": {
   "display_name": "Python 3 (ipykernel)",
   "language": "python",
   "name": "python3"
  },
  "language_info": {
   "codemirror_mode": {
    "name": "ipython",
    "version": 3
   },
   "file_extension": ".py",
   "mimetype": "text/x-python",
   "name": "python",
   "nbconvert_exporter": "python",
   "pygments_lexer": "ipython3",
   "version": "3.12.3"
  }
 },
 "nbformat": 4,
 "nbformat_minor": 5
}
